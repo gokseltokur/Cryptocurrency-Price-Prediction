{
 "cells": [
  {
   "cell_type": "code",
   "execution_count": 28,
   "metadata": {},
   "outputs": [],
   "source": [
    "import pandas as pd\n",
    "import numpy as np\n",
    "import h5py\n",
    "from sklearn.preprocessing import MinMaxScaler"
   ]
  },
  {
   "cell_type": "code",
   "execution_count": 29,
   "metadata": {},
   "outputs": [],
   "source": [
    "class Sample:\n",
    "    def __init__(self, N, K, sliding_window = True):\n",
    "        self.K = K\n",
    "        self.N = N\n",
    "        self.sliding_window = sliding_window\n",
    " \n",
    "    def transform(self, A):\n",
    "        M = self.N + self.K     #Number of samples per row (sample + target)\n",
    "        #indexes\n",
    "        if self.sliding_window:\n",
    "            I = np.arange(M) + np.arange(A.shape[0] - M + 1).reshape(-1, 1)\n",
    "        else:\n",
    "            if A.shape[0]%M == 0:\n",
    "                I = np.arange(M)+np.arange(0,A.shape[0],M).reshape(-1,1)\n",
    "                \n",
    "            else:\n",
    "                I = np.arange(M)+np.arange(0,A.shape[0] -M,M).reshape(-1,1)\n",
    "            \n",
    "        B = A[I].reshape(-1, M * A.shape[1], A.shape[2])\n",
    "        ci = self.N * A.shape[1]    #Number of features per sample\n",
    "        return B[:, :ci], B[:, ci:] #Sample matrix, Target matrix"
   ]
  },
  {
   "cell_type": "code",
   "execution_count": 30,
   "metadata": {},
   "outputs": [],
   "source": [
    "#data file path\n",
    "dfp = 'data/BTCUSDT-1m-1Jun2020to1Dec2020data.csv'\n",
    "\n",
    "#Columns of price data to use\n",
    "columns = ['Close']\n",
    "# df = pd.read_csv(dfp).dropna().tail(1000000)\n",
    "df = pd.read_csv(dfp)\n",
    "time_stamps = df['Timestamp']\n",
    "df = df.loc[:,columns]\n",
    "# original_df = pd.read_csv(dfp).dropna().tail(1000000).loc[:,columns]\n",
    "original_df = pd.read_csv(dfp).loc[:,columns]"
   ]
  },
  {
   "cell_type": "code",
   "execution_count": 31,
   "metadata": {},
   "outputs": [],
   "source": [
    "scaler = MinMaxScaler()\n",
    "# normalization\n",
    "for c in columns:\n",
    "    df[c] = scaler.fit_transform(df[c].values.reshape(-1,1))"
   ]
  },
  {
   "cell_type": "code",
   "execution_count": 35,
   "metadata": {},
   "outputs": [
    {
     "name": "stdout",
     "output_type": "stream",
     "text": [
      "[[[ 9588.1 ]\n",
      "  [ 9584.25]\n",
      "  [ 9591.67]\n",
      "  ...\n",
      "  [ 9567.72]\n",
      "  [ 9569.46]\n",
      "  [ 9559.99]]\n",
      "\n",
      " [[ 9544.44]\n",
      "  [ 9534.51]\n",
      "  [ 9533.51]\n",
      "  ...\n",
      "  [ 9545.53]\n",
      "  [ 9546.77]\n",
      "  [ 9548.57]]\n",
      "\n",
      " [[ 9558.78]\n",
      "  [ 9562.08]\n",
      "  [ 9560.3 ]\n",
      "  ...\n",
      "  [ 9560.25]\n",
      "  [ 9561.68]\n",
      "  [ 9561.01]]\n",
      "\n",
      " ...\n",
      "\n",
      " [[18517.85]\n",
      "  [18525.69]\n",
      "  [18520.  ]\n",
      "  ...\n",
      "  [18600.62]\n",
      "  [18602.37]\n",
      "  [18596.34]]\n",
      "\n",
      " [[19695.82]\n",
      "  [19710.05]\n",
      "  [19675.08]\n",
      "  ...\n",
      "  [19490.02]\n",
      "  [19476.37]\n",
      "  [19482.72]]\n",
      "\n",
      " [[19212.6 ]\n",
      "  [19259.98]\n",
      "  [19177.79]\n",
      "  ...\n",
      "  [19381.73]\n",
      "  [19366.44]\n",
      "  [19382.49]]]\n"
     ]
    }
   ],
   "source": [
    "#%%Features are channels\n",
    "A = np.array(df)[:,None,:]\n",
    "original_A = np.array(original_df)[:,None,:]\n",
    "time_stamps = np.array(time_stamps)[:,None,None]\n",
    "#%%Make samples of temporal sequences of pricing data (channel)\n",
    "NPS, NFS = 256, 16         #Number of past and future samples\n",
    "ps = Sample(NPS, NFS, sliding_window=False)\n",
    "B, Y = ps.transform(A)\n",
    "input_times, output_times = ps.transform(time_stamps)\n",
    "original_B, original_Y = ps.transform(original_A)\n",
    "\n",
    "print(original_Y)"
   ]
  },
  {
   "cell_type": "code",
   "execution_count": 33,
   "metadata": {},
   "outputs": [
    {
     "name": "stdout",
     "output_type": "stream",
     "text": [
      "<HDF5 dataset \"outputs\": shape (967, 16, 1), type \"<f8\">\n"
     ]
    }
   ],
   "source": [
    "\n",
    "with h5py.File('file_name', 'w') as f:\n",
    "    f.create_dataset(\"inputs\", data = B)\n",
    "    f.create_dataset('outputs', data = Y)\n",
    "    f.create_dataset(\"input_times\", data = input_times)\n",
    "    f.create_dataset('output_times', data = output_times)\n",
    "    f.create_dataset(\"original_datas\", data=np.array(original_df))\n",
    "    f.create_dataset('original_inputs',data=original_B)\n",
    "    f.create_dataset('original_outputs',data=original_Y)\n",
    "    print(f['outputs'])\n",
    "#     f.create_dataset('original_times', data=time_stamps)"
   ]
  },
  {
   "cell_type": "code",
   "execution_count": 37,
   "metadata": {},
   "outputs": [
    {
     "name": "stdout",
     "output_type": "stream",
     "text": [
      "[[[0.05272414]\n",
      "  [0.05294818]\n",
      "  [0.05304289]\n",
      "  ...\n",
      "  [0.06523578]\n",
      "  [0.06549261]\n",
      "  [0.06669478]]\n",
      "\n",
      " [[0.06359373]\n",
      "  [0.063489  ]\n",
      "  [0.06332507]\n",
      "  ...\n",
      "  [0.06256187]\n",
      "  [0.0623269 ]\n",
      "  [0.06249812]]\n",
      "\n",
      " [[0.06268938]\n",
      "  [0.0625983 ]\n",
      "  [0.06231689]\n",
      "  ...\n",
      "  [0.06332507]\n",
      "  [0.06257371]\n",
      "  [0.06332689]]\n",
      "\n",
      " ...\n",
      "\n",
      " [[0.88523402]\n",
      "  [0.88464295]\n",
      "  [0.88527955]\n",
      "  ...\n",
      "  [0.88023409]\n",
      "  [0.87946088]\n",
      "  [0.87898275]]\n",
      "\n",
      " [[0.88589066]\n",
      "  [0.88716022]\n",
      "  [0.88868023]\n",
      "  ...\n",
      "  [0.98774245]\n",
      "  [0.98518056]\n",
      "  [0.98133818]]\n",
      "\n",
      " [[0.97337746]\n",
      "  [0.97050774]\n",
      "  [0.96718812]\n",
      "  ...\n",
      "  [0.94541797]\n",
      "  [0.94181602]\n",
      "  [0.94298085]]]\n"
     ]
    }
   ],
   "source": [
    "print(B)"
   ]
  },
  {
   "cell_type": "code",
   "execution_count": null,
   "metadata": {},
   "outputs": [],
   "source": []
  }
 ],
 "metadata": {
  "kernelspec": {
   "display_name": "Python 3",
   "language": "python",
   "name": "python3"
  },
  "language_info": {
   "codemirror_mode": {
    "name": "ipython",
    "version": 3
   },
   "file_extension": ".py",
   "mimetype": "text/x-python",
   "name": "python",
   "nbconvert_exporter": "python",
   "pygments_lexer": "ipython3",
   "version": "3.9.0"
  }
 },
 "nbformat": 4,
 "nbformat_minor": 4
}
