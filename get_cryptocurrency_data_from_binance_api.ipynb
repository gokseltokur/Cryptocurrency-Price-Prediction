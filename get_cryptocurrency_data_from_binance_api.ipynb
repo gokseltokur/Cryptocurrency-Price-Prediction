{
 "cells": [
  {
   "cell_type": "markdown",
   "id": "scheduled-ferry",
   "metadata": {},
   "source": [
    "# CSE4088 Machine Learning"
   ]
  },
  {
   "cell_type": "markdown",
   "id": "catholic-nurse",
   "metadata": {},
   "source": [
    "### Göksel Tokur - 150116049"
   ]
  },
  {
   "cell_type": "markdown",
   "id": "breathing-young",
   "metadata": {},
   "source": [
    "### Merve Ayer - 150119828"
   ]
  },
  {
   "cell_type": "markdown",
   "id": "automatic-europe",
   "metadata": {},
   "source": [
    "## Get Cryptocurrency Data From Binance API"
   ]
  },
  {
   "cell_type": "markdown",
   "id": "african-heating",
   "metadata": {},
   "source": [
    "## Merve Ayer - 150119828"
   ]
  },
  {
   "cell_type": "code",
   "execution_count": 1,
   "id": "outside-husband",
   "metadata": {},
   "outputs": [],
   "source": [
    "from binance.client import Client\n",
    "import os\n",
    "import time\n",
    "import pandas as pd\n",
    "from datetime import timedelta, datetime\n",
    "from dateutil import parser\n",
    "import math\n",
    "from tqdm import tqdm_notebook\n",
    "\n",
    "\n",
    "from binance.websockets import BinanceSocketManager\n",
    "from twisted.internet import reactor\n",
    "\n"
   ]
  },
  {
   "cell_type": "code",
   "execution_count": 2,
   "id": "saved-recognition",
   "metadata": {},
   "outputs": [],
   "source": [
    "# To run the script you need to get Binance API KEY.\n",
    "\n",
    "API_KEY = 'YOU NEED TO WRITE API KEY HERE'\n",
    "API_SECRET = 'YOU NEED TO WRITE API SECRET HERE'\n",
    "\n",
    "binance_client = Client(API_KEY, API_SECRET)"
   ]
  },
  {
   "cell_type": "code",
   "execution_count": 3,
   "id": "tracked-circuit",
   "metadata": {},
   "outputs": [],
   "source": [
    "binsizes = {\"1m\": 1, \"5m\": 5, \"1h\": 60, \"1d\": 1440}\n",
    "batch_size = 750\n",
    "\n",
    "\n",
    "def dates_of_data(symbol, kline_size, data, source, date_from, date_to, date_to_isToday=True):\n",
    "    if len(data) > 0:\n",
    "        old = parser.parse(data[\"Timestamp\"].iloc[-1])\n",
    "    elif source == \"binance\": \n",
    "        old = datetime.strptime(date_from, '%d %b %Y')\n",
    "    if source == \"binance\" and date_to_isToday == True: \n",
    "        new = pd.to_datetime(binance_client.get_klines(symbol=symbol, interval=kline_size)[-1][0], unit='ms')\n",
    "    else:\n",
    "        new = datetime.strptime(date_to, '%d %b %Y')\n",
    "    print(old)\n",
    "    print(new)\n",
    "\n",
    "    return old, new\n",
    "\n",
    "\n",
    "def get_binance_history(symbol, kline_size, date_from, date_to, date_to_isToday=True, save = False):\n",
    "    name_string = 'data/%s-%s-%sto%sdata.csv'\n",
    "    filename = (name_string % (symbol, kline_size, date_from, date_to)).replace(' ', '')\n",
    "    if os.path.isfile(filename):\n",
    "        data_df = pd.read_csv(filename)\n",
    "    else:\n",
    "        data_df = pd.DataFrame()\n",
    "    \n",
    "    oldest_point, newest_point = dates_of_data(symbol, kline_size, data_df, \"binance\", date_from, date_to, date_to_isToday)\n",
    "    delta_min = (newest_point - oldest_point).total_seconds() / 60\n",
    "    available_data = math.ceil(delta_min / binsizes[kline_size])\n",
    "    \n",
    "    if oldest_point == datetime.strptime('1 Jan 2017', '%d %b %Y'):\n",
    "        print('Waiting to download %s data for %s.' % (kline_size, symbol))\n",
    "    else:\n",
    "        print('Waiting to download %d minutes of data for %s, %d instances of %s data.' % (delta_min, symbol, available_data, kline_size))\n",
    "    \n",
    "    klines = binance_client.get_historical_klines(symbol, kline_size, oldest_point.strftime(\"%d %b %Y %H:%M:%S\"), newest_point.strftime(\"%d %b %Y %H:%M:%S\"))\n",
    "    data = pd.DataFrame(klines, columns = ['Timestamp', 'Open', 'High', 'Low', 'Close', 'Volume', 'Close_time', 'Quote_av', 'Trades', 'Tb_base_av', 'Tb_quote_av', 'Ignore' ])\n",
    "    data['Timestamp'] = pd.to_datetime(data['Timestamp'], unit='ms')\n",
    "    \n",
    "    if len(data_df) > 0:\n",
    "        temp_df = pd.DataFrame(data)\n",
    "        data_df = data_df.append(temp_df)\n",
    "    else:\n",
    "        data_df = data\n",
    "    data_df.set_index('Timestamp', inplace=True)\n",
    "    \n",
    "    # if we want to save the data, save it.\n",
    "    if save:\n",
    "        data_df.to_csv(filename)\n",
    "    print('Finished.')\n",
    "    return data_df\n",
    "#data = get_binance_history(\"BTCUSDT\", \"1m\", save=True, date_from='1 Jun 2020', date_to='1 Dec 2020', date_to_isToday=False )\n"
   ]
  },
  {
   "cell_type": "code",
   "execution_count": 4,
   "id": "strange-trademark",
   "metadata": {},
   "outputs": [
    {
     "name": "stdout",
     "output_type": "stream",
     "text": [
      "2020-06-01 00:00:00\n",
      "2021-06-15 00:00:00\n",
      "Waiting to download 545760 minutes of data for BTCUSDT, 109152 instances of 5m data.\n",
      "Finished.\n"
     ]
    }
   ],
   "source": [
    "data = get_binance_history(\"BTCUSDT\", \"5m\", save=True, date_from='1 Jun 2020', date_to='15 Jun 2021', date_to_isToday=False )"
   ]
  }
 ],
 "metadata": {
  "kernelspec": {
   "display_name": "Python 3",
   "language": "python",
   "name": "python3"
  },
  "language_info": {
   "codemirror_mode": {
    "name": "ipython",
    "version": 3
   },
   "file_extension": ".py",
   "mimetype": "text/x-python",
   "name": "python",
   "nbconvert_exporter": "python",
   "pygments_lexer": "ipython3",
   "version": "3.8.6"
  }
 },
 "nbformat": 4,
 "nbformat_minor": 5
}
